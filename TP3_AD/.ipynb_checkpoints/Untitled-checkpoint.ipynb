{
 "cells": [
  {
   "cell_type": "markdown",
   "id": "7bad6976",
   "metadata": {},
   "source": [
    "<h1 style=\"color: Blue;\">L'auto-encodeur avec Keras</h1>"
   ]
  },
  {
   "cell_type": "markdown",
   "id": "4af128b6",
   "metadata": {},
   "source": [
    "<h2>1 Chargement des donnees Fashion-MNIST</h2>"
   ]
  },
  {
   "cell_type": "code",
   "execution_count": 1,
   "id": "ead8ef75",
   "metadata": {},
   "outputs": [
    {
     "name": "stdout",
     "output_type": "stream",
     "text": [
      "WARNING:tensorflow:From C:\\Users\\taouf\\anaconda3\\Lib\\site-packages\\keras\\src\\losses.py:2976: The name tf.losses.sparse_softmax_cross_entropy is deprecated. Please use tf.compat.v1.losses.sparse_softmax_cross_entropy instead.\n",
      "\n"
     ]
    }
   ],
   "source": [
    "import keras\n",
    "import numpy as np\n",
    "import matplotlib.pyplot as plt\n",
    "%matplotlib inline\n",
    "from keras.datasets import mnist\n",
    "from keras import regularizers\n",
    "import tensorflow as tf"
   ]
  },
  {
   "cell_type": "code",
   "execution_count": 5,
   "id": "65fb4475",
   "metadata": {},
   "outputs": [
    {
     "name": "stdout",
     "output_type": "stream",
     "text": [
      "Downloading data from https://storage.googleapis.com/tensorflow/tf-keras-datasets/train-labels-idx1-ubyte.gz\n",
      "29515/29515 [==============================] - 0s 1us/step\n",
      "Downloading data from https://storage.googleapis.com/tensorflow/tf-keras-datasets/train-images-idx3-ubyte.gz\n",
      "26421880/26421880 [==============================] - 4s 0us/step\n",
      "Downloading data from https://storage.googleapis.com/tensorflow/tf-keras-datasets/t10k-labels-idx1-ubyte.gz\n",
      "5148/5148 [==============================] - 0s 0s/step\n",
      "Downloading data from https://storage.googleapis.com/tensorflow/tf-keras-datasets/t10k-images-idx3-ubyte.gz\n",
      "4422102/4422102 [==============================] - 1s 0us/step\n"
     ]
    }
   ],
   "source": [
    "(x_train, y_train), (x_test, y_test) = tf.keras.datasets.fashion_mnist.load_data()"
   ]
  },
  {
   "cell_type": "code",
   "execution_count": 6,
   "id": "66fee427",
   "metadata": {
    "scrolled": true
   },
   "outputs": [],
   "source": [
    "assert x_train.shape == (60000 , 28 , 28 )\n",
    "assert x_test.shape == (10000 , 28 , 28 )\n",
    "assert y_train.shape == (60000 , )\n",
    "assert y_test.shape == (10000 , )\n"
   ]
  },
  {
   "cell_type": "code",
   "execution_count": 8,
   "id": "7303548e",
   "metadata": {},
   "outputs": [
    {
     "name": "stdout",
     "output_type": "stream",
     "text": [
      "(60000, 784)\n",
      "(10000, 784)\n"
     ]
    }
   ],
   "source": [
    "# Normalisation des images\n",
    "x_train = x_train.astype('float32' ) / 255.\n",
    "x_test = x_test.astype ( 'float32'  ) / 255.\n",
    "\n",
    "#vectorisation des images 28 x28 en vecteur de 784 coeffs\n",
    "x_train = x_train.reshape((len ( x_train ) , np.prod (x_train.shape [ 1 : ] ) ))\n",
    "x_test = x_test.reshape(( len (x_test) , np.prod (x_test.shape [ 1 : ] ) ) )\n",
    "\n",
    "print(x_train.shape )\n",
    "print(x_test.shape )\n"
   ]
  },
  {
   "cell_type": "markdown",
   "id": "7c58f9f7",
   "metadata": {},
   "source": [
    "le processus de normalisation et de vectorisation du jeu de données Fashion-MNIST est approprié et standard pour la préparation des données d'image pour l'entrée dans un réseau neuronal. En normalisant les valeurs des pixels à une plage de 0 à 1, on aide le réseau à apprendre plus efficacement. La vectorisation des images 28x28 en vecteurs de 784 dimensions est nécessaire car les couches denses de notre réseau neuronal attendent des tableaux unidimensionnels en entrée.\n",
    "\n",
    "Les formes de nos ensembles de données d'entraînement et de test, (60000, 784) et (10000, 784) respectivement, confirment que les données sont correctement remodelées. Cela signifie que on a 60 000 échantillons d'entraînement et 10 000 échantillons de test, chacun maintenant représenté sous forme de vecteur de 784 dimensions. Ce format est prêt à être utilisé pour entraîner et évaluer les modèles d'autoencodeur."
   ]
  },
  {
   "cell_type": "markdown",
   "id": "9a1833eb",
   "metadata": {},
   "source": [
    "<h2>2 Autoencodeur avec une seule couche cachee </h2>"
   ]
  },
  {
   "cell_type": "code",
   "execution_count": 9,
   "id": "752f3375",
   "metadata": {},
   "outputs": [],
   "source": [
    "from keras.models import Model\n",
    "from keras import layers\n",
    "from keras.layers import Input, Dense"
   ]
  },
  {
   "cell_type": "code",
   "execution_count": 10,
   "id": "9a462c19",
   "metadata": {},
   "outputs": [],
   "source": [
    "#Taille du code dans l'espace latent\n",
    "taille_code = 32"
   ]
  },
  {
   "cell_type": "code",
   "execution_count": 11,
   "id": "5b44000a",
   "metadata": {},
   "outputs": [
    {
     "name": "stdout",
     "output_type": "stream",
     "text": [
      "WARNING:tensorflow:From C:\\Users\\taouf\\anaconda3\\Lib\\site-packages\\keras\\src\\backend.py:1398: The name tf.executing_eagerly_outside_functions is deprecated. Please use tf.compat.v1.executing_eagerly_outside_functions instead.\n",
      "\n"
     ]
    }
   ],
   "source": [
    "#Image d'entrée\n",
    "input_img = Input(shape = (784,))"
   ]
  },
  {
   "cell_type": "code",
   "execution_count": 12,
   "id": "380a1059",
   "metadata": {},
   "outputs": [],
   "source": [
    "#Encoder\n",
    "encoded = Dense(taille_code, activation ='relu')(input_img)"
   ]
  },
  {
   "cell_type": "code",
   "execution_count": 13,
   "id": "c0b6d2fb",
   "metadata": {},
   "outputs": [],
   "source": [
    "#Decoder\n",
    "decoded = Dense(784, activation='sigmoid')(encoded)"
   ]
  },
  {
   "cell_type": "markdown",
   "id": "78f75c1b",
   "metadata": {},
   "source": [
    "le modèle d'autoencodeur, tel que défini, utilise une couche d'encodage et une couche de décodage avec une taille de code dans l'espace latent de 32. Ceci est une configuration typique pour un autoencodeur simple. L'utilisation de la fonction d'activation ReLU dans l'encodeur et de la fonction d'activation sigmoïde dans le décodeur est standard.\n",
    "\n",
    "La taille de l'espace latent à 32 signifie que chaque image de 784 pixels (28x28) sera compressée dans une représentation plus petite de 32 dimensions. Cette représentation vise à capturer les caractéristiques essentielles des données. Le décodeur cherche ensuite à reconstruire l'image originale à partir de ce code latent.\n",
    "\n",
    "Ce modèle peut être utile pour apprendre une représentation compacte des données et peut servir dans des tâches comme la réduction de dimensionnalité, le débruitage d'images, ou comme une étape de prétraitement pour d'autres algorithmes d'apprentissage automatique."
   ]
  },
  {
   "cell_type": "markdown",
   "id": "13b315f1",
   "metadata": {},
   "source": [
    "<p>2.1 Definition des modeles de l’encodeur et du d´ecodeur</p>"
   ]
  },
  {
   "cell_type": "code",
   "execution_count": 14,
   "id": "cb3063a8",
   "metadata": {},
   "outputs": [],
   "source": [
    "#Modele pour l'autoencodeur\n",
    "autoencoder = Model(input_img, decoded)"
   ]
  },
  {
   "cell_type": "code",
   "execution_count": 15,
   "id": "63fa75df",
   "metadata": {},
   "outputs": [],
   "source": [
    "#Modèle d'encodeur sur les données d'entrée pour obtenir le code\n",
    "encoder = Model(input_img, encoded)"
   ]
  },
  {
   "cell_type": "code",
   "execution_count": 16,
   "id": "454ffc1c",
   "metadata": {},
   "outputs": [],
   "source": [
    "#Entrée du décodeur : code dans l'espace latent\n",
    "encoded_input = Input(shape=(taille_code,))"
   ]
  },
  {
   "cell_type": "code",
   "execution_count": 22,
   "id": "ce7ab55d",
   "metadata": {},
   "outputs": [],
   "source": [
    "#Recupérer la dernière couche de l'autocodeur\n",
    "decoder_layer = autoencoder.layers[-1]\n",
    "#Modele du decodeur\n",
    "decoder = Model(encoded_input, decoder_layer(encoded_input))"
   ]
  },
  {
   "cell_type": "code",
   "execution_count": 23,
   "id": "5b2509c3",
   "metadata": {
    "scrolled": true
   },
   "outputs": [
    {
     "name": "stdout",
     "output_type": "stream",
     "text": [
      "Model: \"model\"\n",
      "_________________________________________________________________\n",
      " Layer (type)                Output Shape              Param #   \n",
      "=================================================================\n",
      " input_1 (InputLayer)        [(None, 784)]             0         \n",
      "                                                                 \n",
      " dense (Dense)               (None, 32)                25120     \n",
      "                                                                 \n",
      " dense_1 (Dense)             (None, 784)               25872     \n",
      "                                                                 \n",
      "=================================================================\n",
      "Total params: 50992 (199.19 KB)\n",
      "Trainable params: 50992 (199.19 KB)\n",
      "Non-trainable params: 0 (0.00 Byte)\n",
      "_________________________________________________________________\n"
     ]
    }
   ],
   "source": [
    "autoencoder.summary()"
   ]
  },
  {
   "cell_type": "markdown",
   "id": "f83d9bbc",
   "metadata": {},
   "source": [
    "L'autoencodeur, avec ses 50,992 paramètres, semble avoir une taille adéquate pour traiter les images du Fashion-MNIST. Avec une couche d'encodage comprimant l'entrée à 32 dimensions et une couche de décodage reconstruisant l'image originale, le modèle est bien équipé pour apprendre des caractéristiques essentielles des données.\n",
    "\n",
    "L'architecture séparée pour l'encodeur et le décodeur permet une flexibilité dans l'utilisation du modèle, où l'encodeur peut être utilisé pour la réduction de dimensionnalité et le décodeur pour la génération ou la reconstruction d'images.\n",
    "\n",
    "L'efficacité de ce modèle en termes de qualité de reconstruction et de capture des caractéristiques pertinentes des données dépendra de son entraînement et de l'évaluation ultérieure sur des ensembles de données de test."
   ]
  },
  {
   "cell_type": "markdown",
   "id": "3eb02b84",
   "metadata": {},
   "source": [
    "<P>2.2 Apprentissage et ´evaluation de la performance du modele</P>"
   ]
  },
  {
   "cell_type": "code",
   "execution_count": 24,
   "id": "e209bfe4",
   "metadata": {},
   "outputs": [
    {
     "name": "stdout",
     "output_type": "stream",
     "text": [
      "Epoch 1/20\n",
      "235/235 [==============================] - 1s 4ms/step - loss: 0.2829 - val_loss: 0.2851\n",
      "Epoch 2/20\n",
      "235/235 [==============================] - 1s 3ms/step - loss: 0.2827 - val_loss: 0.2849\n",
      "Epoch 3/20\n",
      "235/235 [==============================] - 1s 3ms/step - loss: 0.2826 - val_loss: 0.2849\n",
      "Epoch 4/20\n",
      "235/235 [==============================] - 1s 3ms/step - loss: 0.2826 - val_loss: 0.2848\n",
      "Epoch 5/20\n",
      "235/235 [==============================] - 1s 4ms/step - loss: 0.2825 - val_loss: 0.2847\n",
      "Epoch 6/20\n",
      "235/235 [==============================] - 1s 4ms/step - loss: 0.2824 - val_loss: 0.2848\n",
      "Epoch 7/20\n",
      "235/235 [==============================] - 1s 4ms/step - loss: 0.2823 - val_loss: 0.2847\n",
      "Epoch 8/20\n",
      "235/235 [==============================] - 1s 4ms/step - loss: 0.2823 - val_loss: 0.2847\n",
      "Epoch 9/20\n",
      "235/235 [==============================] - 1s 4ms/step - loss: 0.2822 - val_loss: 0.2845\n",
      "Epoch 10/20\n",
      "235/235 [==============================] - 1s 3ms/step - loss: 0.2822 - val_loss: 0.2845\n",
      "Epoch 11/20\n",
      "235/235 [==============================] - 1s 3ms/step - loss: 0.2821 - val_loss: 0.2844\n",
      "Epoch 12/20\n",
      "235/235 [==============================] - 1s 4ms/step - loss: 0.2820 - val_loss: 0.2844\n",
      "Epoch 13/20\n",
      "235/235 [==============================] - 1s 4ms/step - loss: 0.2820 - val_loss: 0.2843\n",
      "Epoch 14/20\n",
      "235/235 [==============================] - 1s 3ms/step - loss: 0.2820 - val_loss: 0.2843\n",
      "Epoch 15/20\n",
      "235/235 [==============================] - 1s 3ms/step - loss: 0.2819 - val_loss: 0.2842\n",
      "Epoch 16/20\n",
      "235/235 [==============================] - 1s 4ms/step - loss: 0.2819 - val_loss: 0.2842\n",
      "Epoch 17/20\n",
      "235/235 [==============================] - 1s 4ms/step - loss: 0.2818 - val_loss: 0.2842\n",
      "Epoch 18/20\n",
      "235/235 [==============================] - 1s 4ms/step - loss: 0.2818 - val_loss: 0.2843\n",
      "Epoch 19/20\n",
      "235/235 [==============================] - 1s 4ms/step - loss: 0.2818 - val_loss: 0.2842\n",
      "Epoch 20/20\n",
      "235/235 [==============================] - 1s 4ms/step - loss: 0.2818 - val_loss: 0.2841\n"
     ]
    }
   ],
   "source": [
    "autoencoder.compile(optimizer='adam', loss='binary_crossentropy')\n",
    "nepochs = 20\n",
    "autoencoder_train = autoencoder.fit(x_train, x_train, epochs=nepochs, batch_size=256, shuffle=True, validation_data=(x_test,x_test))"
   ]
  },
  {
   "cell_type": "code",
   "execution_count": 25,
   "id": "6ac00836",
   "metadata": {},
   "outputs": [
    {
     "data": {
      "image/png": "[encoded data removed]",
      "text/plain": [
       "<Figure size 640x480 with 1 Axes>"
      ]
     },
     "metadata": {},
     "output_type": "display_data"
    }
   ],
   "source": [
    "loss = autoencoder_train.history['loss']\n",
    "val_loss = autoencoder_train.history['val_loss']\n",
    "epochs = range(nepochs)\n",
    "plt.figure()\n",
    "plt.plot(epochs, loss, 'bo', label='Training Loss')\n",
    "plt.plot(epochs, val_loss, 'b', label='Validation Loss')\n",
    "plt.title('Losses')\n",
    "plt.legend()\n",
    "plt.show()"
   ]
  },
  {
   "cell_type": "markdown",
   "id": "1f12ea43",
   "metadata": {},
   "source": [
    "<p>2.3 Analyse des resultats de l’autoencodage avec le modele appris</p>"
   ]
  },
  {
   "cell_type": "code",
   "execution_count": 27,
   "id": "666629b3",
   "metadata": {},
   "outputs": [
    {
     "name": "stdout",
     "output_type": "stream",
     "text": [
      "313/313 [==============================] - 0s 782us/step\n",
      "313/313 [==============================] - 0s 804us/step\n"
     ]
    }
   ],
   "source": [
    "#Encodage les images de test pour obtenir les codes dans l'espace latent\n",
    "encoded_imgs = encoder.predict(x_test)\n",
    "#Décoder ces codes pour obtenir les images reconstruites (decoded_imgs)\n",
    "decoded_imgs = decoder.predict(encoded_imgs)"
   ]
  },
  {
   "cell_type": "code",
   "execution_count": 28,
   "id": "8b794cd6",
   "metadata": {},
   "outputs": [
    {
     "data": {
      "image/png": "[encoded data removed]",
      "text/plain": [
       "<Figure size 2000x400 with 10 Axes>"
      ]
     },
     "metadata": {},
     "output_type": "display_data"
    }
   ],
   "source": [
    "n = 5\n",
    "plt.figure(figsize=(20, 4))\n",
    "for i in range(n):\n",
    "#Images originales\n",
    "    ax = plt.subplot(2, n, i+1)\n",
    "    plt.imshow(x_test[i].reshape(28,28))\n",
    "    plt.gray()\n",
    "    ax.get_xaxis().set_visible(False)\n",
    "    ax.get_yaxis().set_visible(False)\n",
    "    #Images decodees\n",
    "    ax = plt.subplot(2, n, i+1+n)\n",
    "    plt.imshow(decoded_imgs[i].reshape(28,28))\n",
    "    plt.gray()\n",
    "    ax.get_xaxis().set_visible(False)\n",
    "    ax.get_yaxis().set_visible(False)\n",
    "\n",
    "plt.show()"
   ]
  },
  {
   "cell_type": "code",
   "execution_count": 29,
   "id": "bb291eb1",
   "metadata": {},
   "outputs": [],
   "source": [
    "from skimage.metrics import structural_similarity as ssim\n",
    "from sklearn.metrics import mean_squared_error as mse"
   ]
  },
  {
   "cell_type": "code",
   "execution_count": 33,
   "id": "ad2a3a24",
   "metadata": {},
   "outputs": [
    {
     "data": {
      "image/png": "[encoded data removed]",
      "text/plain": [
       "<Figure size 640x480 with 1 Axes>"
      ]
     },
     "metadata": {},
     "output_type": "display_data"
    },
    {
     "name": "stdout",
     "output_type": "stream",
     "text": [
      "Valeurs de SSIM :  0.5905744867869336\n",
      "Valeurs de MSE :  0.009564665\n"
     ]
    }
   ],
   "source": [
    "#Calculer les SSIM et MSE pour chaque paire d'images\n",
    "ssim_values = []\n",
    "mse_values = []\n",
    "\n",
    "for i in range(len(x_test)):\n",
    "    # Comparaison entre image originale et image décodée\n",
    "    ssim_score, _ = ssim(x_test[i], decoded_imgs[i], data_range=x_test[i].max() - x_test[i].min(), full=True)\n",
    "    mse_score = mse(x_test[i].flatten(), decoded_imgs[i].flatten())\n",
    "\n",
    "    # Ajouter aux listes\n",
    "    ssim_values.append(ssim_score)  # Append only the SSIM score, not the full tuple\n",
    "    mse_values.append(mse_score)\n",
    "\n",
    "#Analyse avec une boîte à moustaches\n",
    "plt.boxplot([ssim_values, mse_values], labels=['SSIM', 'MSE'])\n",
    "plt.title('Comparaison SSIM et MSE entre images originales et décodées')\n",
    "plt.show()\n",
    "\n",
    "print(\"Valeurs de SSIM : \" ,ssim_score)\n",
    "print(\"Valeurs de MSE : \", mse_score)"
   ]
  },
  {
   "cell_type": "markdown",
   "id": "f3416c20",
   "metadata": {},
   "source": [
    "<p>2.4 Parametrage </p>"
   ]
  },
  {
   "cell_type": "code",
   "execution_count": 36,
   "id": "fe7d185c",
   "metadata": {},
   "outputs": [
    {
     "name": "stdout",
     "output_type": "stream",
     "text": [
      "Epoch 1/10\n",
      "235/235 [==============================] - 1s 4ms/step - loss: 0.2815 - val_loss: 0.2839\n",
      "Epoch 2/10\n",
      "235/235 [==============================] - 1s 4ms/step - loss: 0.2815 - val_loss: 0.2838\n",
      "Epoch 3/10\n",
      "235/235 [==============================] - 1s 4ms/step - loss: 0.2815 - val_loss: 0.2839\n",
      "Epoch 4/10\n",
      "235/235 [==============================] - 1s 4ms/step - loss: 0.2814 - val_loss: 0.2838\n",
      "Epoch 5/10\n",
      "235/235 [==============================] - 1s 4ms/step - loss: 0.2814 - val_loss: 0.2838\n",
      "Epoch 6/10\n",
      "235/235 [==============================] - 1s 3ms/step - loss: 0.2814 - val_loss: 0.2838\n",
      "Epoch 7/10\n",
      "235/235 [==============================] - 1s 3ms/step - loss: 0.2814 - val_loss: 0.2838\n",
      "Epoch 8/10\n",
      "235/235 [==============================] - 1s 4ms/step - loss: 0.2814 - val_loss: 0.2839\n",
      "Epoch 9/10\n",
      "235/235 [==============================] - 1s 3ms/step - loss: 0.2813 - val_loss: 0.2838\n",
      "Epoch 10/10\n",
      "235/235 [==============================] - 1s 4ms/step - loss: 0.2813 - val_loss: 0.2838\n"
     ]
    },
    {
     "data": {
      "image/png": "[encoded data removed]",
      "text/plain": [
       "<Figure size 640x480 with 1 Axes>"
      ]
     },
     "metadata": {},
     "output_type": "display_data"
    }
   ],
   "source": [
    "#Taille du code dans l'espace latent\n",
    "taille_code = 10\n",
    "nepochs = 10\n",
    "autoencoder_train = autoencoder.fit(x_train, x_train, epochs=nepochs, batch_size=256, shuffle=True, validation_data=(x_test,x_test))\n",
    "loss = autoencoder_train.history['loss']\n",
    "val_loss = autoencoder_train.history['val_loss']\n",
    "epochs = range(nepochs)\n",
    "plt.figure()\n",
    "plt.plot(epochs, loss, 'bo', label='Training Loss')\n",
    "plt.plot(epochs, val_loss, 'b', label='Validation Loss')\n",
    "plt.title('Losses')\n",
    "plt.legend()\n",
    "plt.show()"
   ]
  },
  {
   "cell_type": "code",
   "execution_count": null,
   "id": "834a0005",
   "metadata": {},
   "outputs": [],
   "source": [
    "plus le nombre est grand plus le validation Loss est plus bas "
   ]
  },
  {
   "cell_type": "markdown",
   "id": "d8b11e73",
   "metadata": {},
   "source": [
    "<p><strong>3 Autoencodeur profond</p>"
   ]
  },
  {
   "cell_type": "markdown",
   "id": "7c6ad719",
   "metadata": {},
   "source": [
    "<p>3.1 Definition du modele</p>"
   ]
  },
  {
   "cell_type": "code",
   "execution_count": 38,
   "id": "b23a0daf",
   "metadata": {},
   "outputs": [
    {
     "name": "stdout",
     "output_type": "stream",
     "text": [
      "Model: \"model_4\"\n",
      "_________________________________________________________________\n",
      " Layer (type)                Output Shape              Param #   \n",
      "=================================================================\n",
      " input_3 (InputLayer)        [(None, 784)]             0         \n",
      "                                                                 \n",
      " dense_2 (Dense)             (None, 128)               100480    \n",
      "                                                                 \n",
      " dense_3 (Dense)             (None, 64)                8256      \n",
      "                                                                 \n",
      " dense_4 (Dense)             (None, 32)                2080      \n",
      "                                                                 \n",
      " dense_5 (Dense)             (None, 64)                2112      \n",
      "                                                                 \n",
      " dense_6 (Dense)             (None, 128)               8320      \n",
      "                                                                 \n",
      " dense_7 (Dense)             (None, 784)               101136    \n",
      "                                                                 \n",
      "=================================================================\n",
      "Total params: 222384 (868.69 KB)\n",
      "Trainable params: 222384 (868.69 KB)\n",
      "Non-trainable params: 0 (0.00 Byte)\n",
      "_________________________________________________________________\n"
     ]
    }
   ],
   "source": [
    "from keras import layers, models\n",
    "\n",
    "# Assuming input_img is a flattened image of size 784 (28*28)\n",
    "input_img = layers.Input(shape=(784,))\n",
    "\n",
    "# Encoding layers\n",
    "encoded = layers.Dense(128, activation='relu')(input_img)\n",
    "encoded = layers.Dense(64, activation='relu')(encoded)\n",
    "encoded = layers.Dense(32, activation='relu')(encoded)  # Latent space representation\n",
    "\n",
    "# Decoding layers (mirroring the encoding layers)\n",
    "decoded = layers.Dense(64, activation='relu')(encoded)\n",
    "decoded = layers.Dense(128, activation='relu')(decoded)\n",
    "decoded = layers.Dense(784, activation='sigmoid')(decoded)  # Output layer\n",
    "\n",
    "# Autoencoder model\n",
    "autoencoder = models.Model(input_img, decoded)\n",
    "autoencoder.summary()"
   ]
  },
  {
   "cell_type": "markdown",
   "id": "da718ed2",
   "metadata": {},
   "source": [
    "<p><strong>3.2 Apprentissage</p>"
   ]
  },
  {
   "cell_type": "code",
   "execution_count": 39,
   "id": "b8363ae6",
   "metadata": {},
   "outputs": [
    {
     "name": "stdout",
     "output_type": "stream",
     "text": [
      "Epoch 1/50\n",
      "235/235 [==============================] - 2s 5ms/step - loss: 0.3794 - val_loss: 0.3186\n",
      "Epoch 2/50\n",
      "235/235 [==============================] - 1s 4ms/step - loss: 0.3102 - val_loss: 0.3066\n",
      "Epoch 3/50\n",
      "235/235 [==============================] - 1s 5ms/step - loss: 0.3020 - val_loss: 0.3022\n",
      "Epoch 4/50\n",
      "235/235 [==============================] - 1s 5ms/step - loss: 0.2976 - val_loss: 0.2977\n",
      "Epoch 5/50\n",
      "235/235 [==============================] - 1s 5ms/step - loss: 0.2941 - val_loss: 0.2950\n",
      "Epoch 6/50\n",
      "235/235 [==============================] - 1s 5ms/step - loss: 0.2915 - val_loss: 0.2924\n",
      "Epoch 7/50\n",
      "235/235 [==============================] - 1s 5ms/step - loss: 0.2896 - val_loss: 0.2910\n",
      "Epoch 8/50\n",
      "235/235 [==============================] - 1s 5ms/step - loss: 0.2879 - val_loss: 0.2894\n",
      "Epoch 9/50\n",
      "235/235 [==============================] - 1s 5ms/step - loss: 0.2866 - val_loss: 0.2882\n",
      "Epoch 10/50\n",
      "235/235 [==============================] - 1s 5ms/step - loss: 0.2857 - val_loss: 0.2874\n",
      "Epoch 11/50\n",
      "235/235 [==============================] - 1s 5ms/step - loss: 0.2846 - val_loss: 0.2864\n",
      "Epoch 12/50\n",
      "235/235 [==============================] - 1s 5ms/step - loss: 0.2837 - val_loss: 0.2859\n",
      "Epoch 13/50\n",
      "235/235 [==============================] - 1s 5ms/step - loss: 0.2829 - val_loss: 0.2847\n",
      "Epoch 14/50\n",
      "235/235 [==============================] - 1s 5ms/step - loss: 0.2823 - val_loss: 0.2843\n",
      "Epoch 15/50\n",
      "235/235 [==============================] - 1s 5ms/step - loss: 0.2817 - val_loss: 0.2835\n",
      "Epoch 16/50\n",
      "235/235 [==============================] - 1s 5ms/step - loss: 0.2812 - val_loss: 0.2831\n",
      "Epoch 17/50\n",
      "235/235 [==============================] - 1s 5ms/step - loss: 0.2806 - val_loss: 0.2829\n",
      "Epoch 18/50\n",
      "235/235 [==============================] - 1s 5ms/step - loss: 0.2802 - val_loss: 0.2824\n",
      "Epoch 19/50\n",
      "235/235 [==============================] - 1s 5ms/step - loss: 0.2798 - val_loss: 0.2820\n",
      "Epoch 20/50\n",
      "235/235 [==============================] - 1s 5ms/step - loss: 0.2793 - val_loss: 0.2818\n",
      "Epoch 21/50\n",
      "235/235 [==============================] - 1s 5ms/step - loss: 0.2790 - val_loss: 0.2812\n",
      "Epoch 22/50\n",
      "235/235 [==============================] - 1s 5ms/step - loss: 0.2787 - val_loss: 0.2810\n",
      "Epoch 23/50\n",
      "235/235 [==============================] - 1s 4ms/step - loss: 0.2783 - val_loss: 0.2806\n",
      "Epoch 24/50\n",
      "235/235 [==============================] - 1s 5ms/step - loss: 0.2780 - val_loss: 0.2806\n",
      "Epoch 25/50\n",
      "235/235 [==============================] - 1s 5ms/step - loss: 0.2777 - val_loss: 0.2798\n",
      "Epoch 26/50\n",
      "235/235 [==============================] - 1s 5ms/step - loss: 0.2775 - val_loss: 0.2796\n",
      "Epoch 27/50\n",
      "235/235 [==============================] - 1s 5ms/step - loss: 0.2771 - val_loss: 0.2797\n",
      "Epoch 28/50\n",
      "235/235 [==============================] - 1s 5ms/step - loss: 0.2769 - val_loss: 0.2793\n",
      "Epoch 29/50\n",
      "235/235 [==============================] - 1s 5ms/step - loss: 0.2767 - val_loss: 0.2788\n",
      "Epoch 30/50\n",
      "235/235 [==============================] - 1s 6ms/step - loss: 0.2764 - val_loss: 0.2788\n",
      "Epoch 31/50\n",
      "235/235 [==============================] - 1s 5ms/step - loss: 0.2762 - val_loss: 0.2787\n",
      "Epoch 32/50\n",
      "235/235 [==============================] - 1s 5ms/step - loss: 0.2759 - val_loss: 0.2785\n",
      "Epoch 33/50\n",
      "235/235 [==============================] - 1s 5ms/step - loss: 0.2758 - val_loss: 0.2781\n",
      "Epoch 34/50\n",
      "235/235 [==============================] - 1s 5ms/step - loss: 0.2755 - val_loss: 0.2778\n",
      "Epoch 35/50\n",
      "235/235 [==============================] - 1s 5ms/step - loss: 0.2753 - val_loss: 0.2778\n",
      "Epoch 36/50\n",
      "235/235 [==============================] - 1s 5ms/step - loss: 0.2752 - val_loss: 0.2781\n",
      "Epoch 37/50\n",
      "235/235 [==============================] - 1s 4ms/step - loss: 0.2750 - val_loss: 0.2775\n",
      "Epoch 38/50\n",
      "235/235 [==============================] - 1s 5ms/step - loss: 0.2749 - val_loss: 0.2772\n",
      "Epoch 39/50\n",
      "235/235 [==============================] - 1s 5ms/step - loss: 0.2747 - val_loss: 0.2771\n",
      "Epoch 40/50\n",
      "235/235 [==============================] - 1s 6ms/step - loss: 0.2746 - val_loss: 0.2772\n",
      "Epoch 41/50\n",
      "235/235 [==============================] - 1s 5ms/step - loss: 0.2744 - val_loss: 0.2768\n",
      "Epoch 42/50\n",
      "235/235 [==============================] - 1s 4ms/step - loss: 0.2743 - val_loss: 0.2766\n",
      "Epoch 43/50\n",
      "235/235 [==============================] - 1s 5ms/step - loss: 0.2742 - val_loss: 0.2766\n",
      "Epoch 44/50\n",
      "235/235 [==============================] - 1s 5ms/step - loss: 0.2740 - val_loss: 0.2765\n",
      "Epoch 45/50\n",
      "235/235 [==============================] - 1s 5ms/step - loss: 0.2739 - val_loss: 0.2764\n",
      "Epoch 46/50\n",
      "235/235 [==============================] - 1s 4ms/step - loss: 0.2738 - val_loss: 0.2764\n",
      "Epoch 47/50\n",
      "235/235 [==============================] - 1s 5ms/step - loss: 0.2736 - val_loss: 0.2763\n",
      "Epoch 48/50\n",
      "235/235 [==============================] - 1s 4ms/step - loss: 0.2735 - val_loss: 0.2761\n",
      "Epoch 49/50\n",
      "235/235 [==============================] - 1s 5ms/step - loss: 0.2734 - val_loss: 0.2759\n",
      "Epoch 50/50\n",
      "235/235 [==============================] - 1s 5ms/step - loss: 0.2733 - val_loss: 0.2758\n"
     ]
    }
   ],
   "source": [
    "autoencoder.compile (optimizer='adam' , loss='binary_crossentropy' )\n",
    "nepochs=50\n",
    "autoencoder_train=autoencoder.fit(x_train,x_train,epochs=nepochs ,\n",
    "batch_size=256, shuffle=True , validation_data =(x_test , x_test ) )"
   ]
  },
  {
   "cell_type": "markdown",
   "id": "2d063567",
   "metadata": {},
   "source": [
    "<p><strong>3.3 Analyse des resultats de l’autoencodage avec le modele appris</p>"
   ]
  },
  {
   "cell_type": "code",
   "execution_count": 42,
   "id": "14bb6ede",
   "metadata": {},
   "outputs": [
    {
     "data": {
      "image/png": "[encoded data removed]",
      "text/plain": [
       "<Figure size 800x500 with 1 Axes>"
      ]
     },
     "metadata": {},
     "output_type": "display_data"
    }
   ],
   "source": [
    "# Extract the loss and validation loss from the training history\n",
    "training_loss = autoencoder_train.history['loss']\n",
    "validation_loss = autoencoder_train.history['val_loss']\n",
    "epochs_range = range(1, nepochs + 1)\n",
    "\n",
    "# Plot the training and validation loss\n",
    "plt.figure(figsize=(8, 5))\n",
    "plt.plot(epochs_range, training_loss, 'bo-', label='Training Loss')\n",
    "plt.plot(epochs_range, validation_loss, 'r-', label='Validation Loss')\n",
    "plt.title('Training and Validation Loss Over Epochs')\n",
    "plt.xlabel('Epochs')\n",
    "plt.ylabel('Loss')\n",
    "plt.legend()\n",
    "plt.show()"
   ]
  },
  {
   "cell_type": "code",
   "execution_count": 43,
   "id": "2615d55a",
   "metadata": {},
   "outputs": [
    {
     "name": "stdout",
     "output_type": "stream",
     "text": [
      "313/313 [==============================] - 0s 1ms/step\n"
     ]
    },
    {
     "ename": "NameError",
     "evalue": "name 'decoded_imgs_simple' is not defined",
     "output_type": "error",
     "traceback": [
      "\u001b[1;31m---------------------------------------------------------------------------\u001b[0m",
      "\u001b[1;31mNameError\u001b[0m                                 Traceback (most recent call last)",
      "Cell \u001b[1;32mIn[43], line 3\u001b[0m\n\u001b[0;32m      1\u001b[0m decoded_imgs \u001b[38;5;241m=\u001b[39m autoencoder\u001b[38;5;241m.\u001b[39mpredict(x_test)\n\u001b[0;32m      2\u001b[0m \u001b[38;5;66;03m# Calculate the MSE and SSIM for the simple autoencoder\u001b[39;00m\n\u001b[1;32m----> 3\u001b[0m mse_values_simple \u001b[38;5;241m=\u001b[39m np\u001b[38;5;241m.\u001b[39mmean(np\u001b[38;5;241m.\u001b[39msquare(x_test \u001b[38;5;241m-\u001b[39m decoded_imgs_simple), axis\u001b[38;5;241m=\u001b[39m\u001b[38;5;241m1\u001b[39m)\n\u001b[0;32m      4\u001b[0m ssim_values_simple \u001b[38;5;241m=\u001b[39m [ssim(x_test[i]\u001b[38;5;241m.\u001b[39mreshape(\u001b[38;5;241m28\u001b[39m, \u001b[38;5;241m28\u001b[39m), decoded_imgs_simple[i]\u001b[38;5;241m.\u001b[39mreshape(\u001b[38;5;241m28\u001b[39m, \u001b[38;5;241m28\u001b[39m)) \u001b[38;5;28;01mfor\u001b[39;00m i \u001b[38;5;129;01min\u001b[39;00m \u001b[38;5;28mrange\u001b[39m(\u001b[38;5;28mlen\u001b[39m(x_test))]\n\u001b[0;32m      6\u001b[0m \u001b[38;5;66;03m# Calculate the average MSE and SSIM for both models\u001b[39;00m\n",
      "\u001b[1;31mNameError\u001b[0m: name 'decoded_imgs_simple' is not defined"
     ]
    }
   ],
   "source": [
    "decoded_imgs = autoencoder.predict(x_test)\n",
    "# Calculate the MSE and SSIM for the simple autoencoder\n",
    "mse_values_simple = np.mean(np.square(x_test - decoded_imgs_simple), axis=1)\n",
    "ssim_values_simple = [ssim(x_test[i].reshape(28, 28), decoded_imgs_simple[i].reshape(28, 28)) for i in range(len(x_test))]\n",
    "\n",
    "# Calculate the average MSE and SSIM for both models\n",
    "average_mse_deep = np.mean(mse_values_deep)\n",
    "average_ssim_deep = np.mean(ssim_values_deep)\n",
    "average_mse_simple = np.mean(mse_values_simple)\n",
    "average_ssim_simple = np.mean(ssim_values_simple)\n",
    "\n",
    "# Print out the average MSE and SSIM\n",
    "print(f\"Deep Autoencoder - Average MSE: {average_mse_deep}, Average SSIM: {average_ssim_deep}\")\n",
    "print(f\"Simple Autoencoder - Average MSE: {average_mse_simple}, Average SSIM: {average_ssim_simple}\")\n",
    "\n",
    "# Optionally, plot the comparisons\n",
    "plt.figure(figsize=(10, 4))\n",
    "plt.subplot(1, 2, 1)\n",
    "plt.bar(['Deep', 'Simple'], [average_mse_deep, average_mse_simple], color=['blue', 'orange'])\n",
    "plt.title('Average MSE Comparison')\n",
    "plt.ylabel('MSE')\n",
    "\n",
    "plt.subplot(1, 2, 2)\n",
    "plt.bar(['Deep', 'Simple'], [average_ssim_deep, average_ssim_simple], color=['blue', 'orange'])\n",
    "plt.title('Average SSIM Comparison')\n",
    "plt.ylabel('SSIM')\n",
    "\n",
    "plt.tight_layout()\n",
    "plt.show()\n"
   ]
  },
  {
   "cell_type": "code",
   "execution_count": null,
   "id": "8d9edd14",
   "metadata": {},
   "outputs": [],
   "source": []
  }
 ],
 "metadata": {
  "kernelspec": {
   "display_name": "Python 3 (ipykernel)",
   "language": "python",
   "name": "python3"
  },
  "language_info": {
   "codemirror_mode": {
    "name": "ipython",
    "version": 3
   },
   "file_extension": ".py",
   "mimetype": "text/x-python",
   "name": "python",
   "nbconvert_exporter": "python",
   "pygments_lexer": "ipython3",
   "version": "3.11.5"
  }
 },
 "nbformat": 4,
 "nbformat_minor": 5
}
